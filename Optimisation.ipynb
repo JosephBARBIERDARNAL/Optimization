{
 "cells": [
  {
   "cell_type": "markdown",
   "id": "412b3af7-bf6e-4ac6-ace6-3aabfcd1ea78",
   "metadata": {
    "tags": []
   },
   "source": [
    "# Algorithme Newton-Raphson"
   ]
  },
  {
   "cell_type": "code",
   "execution_count": 9,
   "id": "f7d45239-5f86-4b32-8ac5-a5334ede49f3",
   "metadata": {},
   "outputs": [],
   "source": [
    "import numpy as np\n",
    "\n",
    "def fPrime(x):\n",
    "    return 3*np.exp(-3*x) + 3*x*(-3*np.exp(-3*x))\n",
    "\n",
    "def fSeconde(x):\n",
    "    return 3*(-3*np.exp(-3*x)) - (3*3*(-3*np.exp(-3*x))*x + 3*3*np.exp(-3*x))\n",
    "\n",
    "def algo_NewtonRaphson(x):\n",
    "    \n",
    "    eps = 0.01\n",
    "    k = 1\n",
    "    \n",
    "    while abs(fPrime(x)) > eps:\n",
    "        x = x - fPrime(x)/fSeconde(x)\n",
    "        print(x)\n",
    "        k += 1"
   ]
  },
  {
   "cell_type": "code",
   "execution_count": 10,
   "id": "94ac0a7c-2dff-46a5-9a37-abe4ff8edff6",
   "metadata": {},
   "outputs": [
    {
     "name": "stdout",
     "output_type": "stream",
     "text": [
      "0.16666666666666666\n",
      "0.2777777777777778\n",
      "0.3253968253968254\n",
      "0.3331487633813215\n"
     ]
    }
   ],
   "source": [
    "algo_NewtonRaphson(0)"
   ]
  },
  {
   "cell_type": "code",
   "execution_count": null,
   "id": "d8454173-b604-41d6-b69f-727d311e1ec9",
   "metadata": {},
   "outputs": [],
   "source": []
  },
  {
   "cell_type": "code",
   "execution_count": 36,
   "id": "7382815b-39fa-4a0a-92c4-cd479299515d",
   "metadata": {},
   "outputs": [],
   "source": []
  },
  {
   "cell_type": "code",
   "execution_count": null,
   "id": "ce12b7e5-1023-4f08-8df4-ff3475c21555",
   "metadata": {},
   "outputs": [],
   "source": []
  }
 ],
 "metadata": {
  "kernelspec": {
   "display_name": "Python 3 (ipykernel)",
   "language": "python",
   "name": "python3"
  },
  "language_info": {
   "codemirror_mode": {
    "name": "ipython",
    "version": 3
   },
   "file_extension": ".py",
   "mimetype": "text/x-python",
   "name": "python",
   "nbconvert_exporter": "python",
   "pygments_lexer": "ipython3",
   "version": "3.9.12"
  }
 },
 "nbformat": 4,
 "nbformat_minor": 5
}
