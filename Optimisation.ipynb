{
 "cells": [
  {
   "cell_type": "markdown",
   "id": "412b3af7-bf6e-4ac6-ace6-3aabfcd1ea78",
   "metadata": {
    "tags": []
   },
   "source": [
    "# Algorithme Newton-Raphson"
   ]
  },
  {
   "cell_type": "code",
   "execution_count": 12,
   "id": "f7d45239-5f86-4b32-8ac5-a5334ede49f3",
   "metadata": {},
   "outputs": [],
   "source": [
    "import numpy as np\n",
    "\n",
    "def fPrime(x):\n",
    "    return (5*2*x + 1)*np.sin(x) + (5*x**2 + x)*np.cos(x)\n",
    "\n",
    "def fSeconde(x):\n",
    "    return 5*2*np.sin(x) + (5*2*x + 1)*np.cos(x) + (5*2*x + 1)*np.cos(x) + (5*x**2 + x)*(-np.sin(x))\n",
    "\n",
    "def algo_NewtonRaphson(x):\n",
    "    \n",
    "    eps = 0.01\n",
    "    k = 0\n",
    "    \n",
    "    while abs(fPrime(x)) > eps:\n",
    "        x -= fPrime(x)/fSeconde(x)\n",
    "        print(x)\n",
    "        k += 1\n",
    "    \n",
    "    print(\"\\n{} est un minimum local de f, atteint à la {}ème itération\".format(round(x, 4), k))"
   ]
  },
  {
   "cell_type": "code",
   "execution_count": 13,
   "id": "94ac0a7c-2dff-46a5-9a37-abe4ff8edff6",
   "metadata": {},
   "outputs": [
    {
     "name": "stdout",
     "output_type": "stream",
     "text": [
      "-2.4238576465606196\n",
      "-2.3151268230108415\n",
      "-2.307892964514023\n",
      "\n",
      "-2.3079 est un minimum local de f, atteint à la 3ème itération\n"
     ]
    }
   ],
   "source": [
    "algo_NewtonRaphson(-2)"
   ]
  },
  {
   "cell_type": "markdown",
   "id": "84606d0a-29f4-44ee-bf4c-a90f53381a15",
   "metadata": {},
   "source": [
    "# Algorithme Newton-Raphson avec garde-fous"
   ]
  },
  {
   "cell_type": "code",
   "execution_count": 20,
   "id": "7382815b-39fa-4a0a-92c4-cd479299515d",
   "metadata": {},
   "outputs": [],
   "source": [
    "import numpy as np\n",
    "\n",
    "#functions\n",
    "def f(x):\n",
    "    return (-x**2 - 1)*np.sin(x)\n",
    "def fPrime(x):\n",
    "    return -2*x*np.sin(x) + (-x**2 - 1)*np.cos(x)\n",
    "def fSeconde(x):\n",
    "    return -(2*np.sin(x) + 2*x*np.cos(x)) - 2*x*np.cos(x) + (-x**2 - 1)*(-np.sin(x))\n",
    "\n",
    "#algo\n",
    "def algo_NewtonRaphsonGF(x, a, b):\n",
    "    \n",
    "    eps = 0.01\n",
    "    k = 0\n",
    "    stopBorne = False\n",
    "    \n",
    "    while abs(fPrime(x)) > eps:\n",
    "        \n",
    "        if fSeconde(x) > 0:\n",
    "            delta = -fPrime(x)/fSeconde(x)\n",
    "        else:\n",
    "            delta = -fPrime(x)\n",
    "        \n",
    "        if x+delta > b:\n",
    "            delta = b - x\n",
    "        \n",
    "        if x+delta < a:\n",
    "            delta = a - x\n",
    "        \n",
    "        if delta == 0:\n",
    "            stopBorne = True\n",
    "        else:\n",
    "            while f(x+delta) >= f(x):\n",
    "                delta = delta/2\n",
    "        \n",
    "        x, k = x+delta, k+1\n",
    "        \n",
    "        print(\"Valeur de x : {} (à la {}ème itération)\".format(x, k))"
   ]
  },
  {
   "cell_type": "code",
   "execution_count": 21,
   "id": "ce12b7e5-1023-4f08-8df4-ff3475c21555",
   "metadata": {},
   "outputs": [
    {
     "name": "stdout",
     "output_type": "stream",
     "text": [
      "Valeur de x : 2.0 (à la 1ème itération)\n",
      "Valeur de x : 2.2569652162577274 (à la 2ème itération)\n",
      "Valeur de x : 2.21548746950698 (à la 3ème itération)\n"
     ]
    }
   ],
   "source": [
    "algo_NewtonRaphsonGF(1, a=-3, b=3)"
   ]
  }
 ],
 "metadata": {
  "kernelspec": {
   "display_name": "Python 3 (ipykernel)",
   "language": "python",
   "name": "python3"
  },
  "language_info": {
   "codemirror_mode": {
    "name": "ipython",
    "version": 3
   },
   "file_extension": ".py",
   "mimetype": "text/x-python",
   "name": "python",
   "nbconvert_exporter": "python",
   "pygments_lexer": "ipython3",
   "version": "3.9.12"
  }
 },
 "nbformat": 4,
 "nbformat_minor": 5
}
